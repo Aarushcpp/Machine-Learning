{
  "nbformat": 4,
  "nbformat_minor": 0,
  "metadata": {
    "colab": {
      "provenance": []
    },
    "kernelspec": {
      "name": "python3",
      "display_name": "Python 3"
    },
    "language_info": {
      "name": "python"
    }
  },
  "cells": [
    {
      "cell_type": "markdown",
      "source": [
        "# Simple Linear Regression\n"
      ],
      "metadata": {
        "id": "26EqmOp93449"
      }
    },
    {
      "cell_type": "markdown",
      "source": [
        "Importing the libraries"
      ],
      "metadata": {
        "id": "F_3iOm0R4BsR"
      }
    },
    {
      "cell_type": "code",
      "source": [
        "import numpy as np\n",
        "import matplotlib.pyplot as plt\n",
        "import pandas as pd"
      ],
      "metadata": {
        "id": "vgXMR4i94Ggt"
      },
      "execution_count": 1,
      "outputs": []
    },
    {
      "cell_type": "markdown",
      "source": [
        "Loading the dataset"
      ],
      "metadata": {
        "id": "M94KClGl4SKE"
      }
    },
    {
      "cell_type": "code",
      "source": [
        "url = \"https://raw.githubusercontent.com/devzohaib/Simple-Linear-Regression/master/tvmarketing.csv\"\n",
        "dataset = pd.read_csv(url)"
      ],
      "metadata": {
        "id": "TOG-hR5X4aM-"
      },
      "execution_count": 2,
      "outputs": []
    },
    {
      "cell_type": "markdown",
      "source": [
        "Creating matrix of features"
      ],
      "metadata": {
        "id": "sy6lGb-I43Jk"
      }
    },
    {
      "cell_type": "code",
      "source": [
        "X = dataset.iloc[:,:-1].values\n",
        "y = dataset.iloc[:,-1].values\n",
        "print(X)"
      ],
      "metadata": {
        "colab": {
          "base_uri": "https://localhost:8080/"
        },
        "id": "GFC5ztmi47dh",
        "outputId": "c8dfdf34-248c-4741-baa1-8da3119d866e"
      },
      "execution_count": 3,
      "outputs": [
        {
          "output_type": "stream",
          "name": "stdout",
          "text": [
            "[[230.1]\n",
            " [ 44.5]\n",
            " [ 17.2]\n",
            " [151.5]\n",
            " [180.8]\n",
            " [  8.7]\n",
            " [ 57.5]\n",
            " [120.2]\n",
            " [  8.6]\n",
            " [199.8]\n",
            " [ 66.1]\n",
            " [214.7]\n",
            " [ 23.8]\n",
            " [ 97.5]\n",
            " [204.1]\n",
            " [195.4]\n",
            " [ 67.8]\n",
            " [281.4]\n",
            " [ 69.2]\n",
            " [147.3]\n",
            " [218.4]\n",
            " [237.4]\n",
            " [ 13.2]\n",
            " [228.3]\n",
            " [ 62.3]\n",
            " [262.9]\n",
            " [142.9]\n",
            " [240.1]\n",
            " [248.8]\n",
            " [ 70.6]\n",
            " [292.9]\n",
            " [112.9]\n",
            " [ 97.2]\n",
            " [265.6]\n",
            " [ 95.7]\n",
            " [290.7]\n",
            " [266.9]\n",
            " [ 74.7]\n",
            " [ 43.1]\n",
            " [228. ]\n",
            " [202.5]\n",
            " [177. ]\n",
            " [293.6]\n",
            " [206.9]\n",
            " [ 25.1]\n",
            " [175.1]\n",
            " [ 89.7]\n",
            " [239.9]\n",
            " [227.2]\n",
            " [ 66.9]\n",
            " [199.8]\n",
            " [100.4]\n",
            " [216.4]\n",
            " [182.6]\n",
            " [262.7]\n",
            " [198.9]\n",
            " [  7.3]\n",
            " [136.2]\n",
            " [210.8]\n",
            " [210.7]\n",
            " [ 53.5]\n",
            " [261.3]\n",
            " [239.3]\n",
            " [102.7]\n",
            " [131.1]\n",
            " [ 69. ]\n",
            " [ 31.5]\n",
            " [139.3]\n",
            " [237.4]\n",
            " [216.8]\n",
            " [199.1]\n",
            " [109.8]\n",
            " [ 26.8]\n",
            " [129.4]\n",
            " [213.4]\n",
            " [ 16.9]\n",
            " [ 27.5]\n",
            " [120.5]\n",
            " [  5.4]\n",
            " [116. ]\n",
            " [ 76.4]\n",
            " [239.8]\n",
            " [ 75.3]\n",
            " [ 68.4]\n",
            " [213.5]\n",
            " [193.2]\n",
            " [ 76.3]\n",
            " [110.7]\n",
            " [ 88.3]\n",
            " [109.8]\n",
            " [134.3]\n",
            " [ 28.6]\n",
            " [217.7]\n",
            " [250.9]\n",
            " [107.4]\n",
            " [163.3]\n",
            " [197.6]\n",
            " [184.9]\n",
            " [289.7]\n",
            " [135.2]\n",
            " [222.4]\n",
            " [296.4]\n",
            " [280.2]\n",
            " [187.9]\n",
            " [238.2]\n",
            " [137.9]\n",
            " [ 25. ]\n",
            " [ 90.4]\n",
            " [ 13.1]\n",
            " [255.4]\n",
            " [225.8]\n",
            " [241.7]\n",
            " [175.7]\n",
            " [209.6]\n",
            " [ 78.2]\n",
            " [ 75.1]\n",
            " [139.2]\n",
            " [ 76.4]\n",
            " [125.7]\n",
            " [ 19.4]\n",
            " [141.3]\n",
            " [ 18.8]\n",
            " [224. ]\n",
            " [123.1]\n",
            " [229.5]\n",
            " [ 87.2]\n",
            " [  7.8]\n",
            " [ 80.2]\n",
            " [220.3]\n",
            " [ 59.6]\n",
            " [  0.7]\n",
            " [265.2]\n",
            " [  8.4]\n",
            " [219.8]\n",
            " [ 36.9]\n",
            " [ 48.3]\n",
            " [ 25.6]\n",
            " [273.7]\n",
            " [ 43. ]\n",
            " [184.9]\n",
            " [ 73.4]\n",
            " [193.7]\n",
            " [220.5]\n",
            " [104.6]\n",
            " [ 96.2]\n",
            " [140.3]\n",
            " [240.1]\n",
            " [243.2]\n",
            " [ 38. ]\n",
            " [ 44.7]\n",
            " [280.7]\n",
            " [121. ]\n",
            " [197.6]\n",
            " [171.3]\n",
            " [187.8]\n",
            " [  4.1]\n",
            " [ 93.9]\n",
            " [149.8]\n",
            " [ 11.7]\n",
            " [131.7]\n",
            " [172.5]\n",
            " [ 85.7]\n",
            " [188.4]\n",
            " [163.5]\n",
            " [117.2]\n",
            " [234.5]\n",
            " [ 17.9]\n",
            " [206.8]\n",
            " [215.4]\n",
            " [284.3]\n",
            " [ 50. ]\n",
            " [164.5]\n",
            " [ 19.6]\n",
            " [168.4]\n",
            " [222.4]\n",
            " [276.9]\n",
            " [248.4]\n",
            " [170.2]\n",
            " [276.7]\n",
            " [165.6]\n",
            " [156.6]\n",
            " [218.5]\n",
            " [ 56.2]\n",
            " [287.6]\n",
            " [253.8]\n",
            " [205. ]\n",
            " [139.5]\n",
            " [191.1]\n",
            " [286. ]\n",
            " [ 18.7]\n",
            " [ 39.5]\n",
            " [ 75.5]\n",
            " [ 17.2]\n",
            " [166.8]\n",
            " [149.7]\n",
            " [ 38.2]\n",
            " [ 94.2]\n",
            " [177. ]\n",
            " [283.6]\n",
            " [232.1]]\n"
          ]
        }
      ]
    },
    {
      "cell_type": "markdown",
      "source": [
        "Creating dependable vector\n"
      ],
      "metadata": {
        "id": "d0kqpNss6pSu"
      }
    },
    {
      "cell_type": "code",
      "source": [
        "print(y)"
      ],
      "metadata": {
        "colab": {
          "base_uri": "https://localhost:8080/"
        },
        "id": "ZH3BIhUI6fiL",
        "outputId": "93bfdaa0-5705-47c9-c946-ba1a07b532bf"
      },
      "execution_count": 4,
      "outputs": [
        {
          "output_type": "stream",
          "name": "stdout",
          "text": [
            "[22.1 10.4  9.3 18.5 12.9  7.2 11.8 13.2  4.8 10.6  8.6 17.4  9.2  9.7\n",
            " 19.  22.4 12.5 24.4 11.3 14.6 18.  12.5  5.6 15.5  9.7 12.  15.  15.9\n",
            " 18.9 10.5 21.4 11.9  9.6 17.4  9.5 12.8 25.4 14.7 10.1 21.5 16.6 17.1\n",
            " 20.7 12.9  8.5 14.9 10.6 23.2 14.8  9.7 11.4 10.7 22.6 21.2 20.2 23.7\n",
            "  5.5 13.2 23.8 18.4  8.1 24.2 15.7 14.  18.   9.3  9.5 13.4 18.9 22.3\n",
            " 18.3 12.4  8.8 11.  17.   8.7  6.9 14.2  5.3 11.  11.8 12.3 11.3 13.6\n",
            " 21.7 15.2 12.  16.  12.9 16.7 11.2  7.3 19.4 22.2 11.5 16.9 11.7 15.5\n",
            " 25.4 17.2 11.7 23.8 14.8 14.7 20.7 19.2  7.2  8.7  5.3 19.8 13.4 21.8\n",
            " 14.1 15.9 14.6 12.6 12.2  9.4 15.9  6.6 15.5  7.  11.6 15.2 19.7 10.6\n",
            "  6.6  8.8 24.7  9.7  1.6 12.7  5.7 19.6 10.8 11.6  9.5 20.8  9.6 20.7\n",
            " 10.9 19.2 20.1 10.4 11.4 10.3 13.2 25.4 10.9 10.1 16.1 11.6 16.6 19.\n",
            " 15.6  3.2 15.3 10.1  7.3 12.9 14.4 13.3 14.9 18.  11.9 11.9  8.  12.2\n",
            " 17.1 15.   8.4 14.5  7.6 11.7 11.5 27.  20.2 11.7 11.8 12.6 10.5 12.2\n",
            "  8.7 26.2 17.6 22.6 10.3 17.3 15.9  6.7 10.8  9.9  5.9 19.6 17.3  7.6\n",
            "  9.7 12.8 25.5 13.4]\n"
          ]
        }
      ]
    },
    {
      "cell_type": "markdown",
      "source": [
        "Splitting the dataset into training and testing set"
      ],
      "metadata": {
        "id": "8grdZtFZ6nCv"
      }
    },
    {
      "cell_type": "code",
      "source": [
        "from sklearn.model_selection import train_test_split\n",
        "X_train,X_test,y_train,y_test = train_test_split(X,y,test_size=0.2,random_state=1)\n",
        "print(X_train)"
      ],
      "metadata": {
        "colab": {
          "base_uri": "https://localhost:8080/"
        },
        "id": "wgsowIYL61hf",
        "outputId": "ae1498ac-f720-406c-8712-4c836d9d784e"
      },
      "execution_count": 5,
      "outputs": [
        {
          "output_type": "stream",
          "name": "stdout",
          "text": [
            "[[ 13.1]\n",
            " [ 90.4]\n",
            " [ 18.7]\n",
            " [204.1]\n",
            " [  7.3]\n",
            " [147.3]\n",
            " [ 78.2]\n",
            " [228. ]\n",
            " [205. ]\n",
            " [229.5]\n",
            " [289.7]\n",
            " [123.1]\n",
            " [ 19.4]\n",
            " [182.6]\n",
            " [265.6]\n",
            " [165.6]\n",
            " [218.5]\n",
            " [ 25. ]\n",
            " [232.1]\n",
            " [ 43. ]\n",
            " [139.2]\n",
            " [139.3]\n",
            " [  5.4]\n",
            " [293.6]\n",
            " [281.4]\n",
            " [  8.7]\n",
            " [ 80.2]\n",
            " [137.9]\n",
            " [227.2]\n",
            " [ 31.5]\n",
            " [262.7]\n",
            " [213.5]\n",
            " [287.6]\n",
            " [ 11.7]\n",
            " [ 17.9]\n",
            " [209.6]\n",
            " [ 23.8]\n",
            " [ 76.4]\n",
            " [250.9]\n",
            " [141.3]\n",
            " [187.8]\n",
            " [134.3]\n",
            " [239.8]\n",
            " [224. ]\n",
            " [ 75.5]\n",
            " [ 97.5]\n",
            " [ 75.3]\n",
            " [  8.4]\n",
            " [191.1]\n",
            " [175.1]\n",
            " [135.2]\n",
            " [266.9]\n",
            " [ 85.7]\n",
            " [139.5]\n",
            " [171.3]\n",
            " [187.9]\n",
            " [ 38.2]\n",
            " [177. ]\n",
            " [ 38. ]\n",
            " [168.4]\n",
            " [ 16.9]\n",
            " [237.4]\n",
            " [ 28.6]\n",
            " [197.6]\n",
            " [ 17.2]\n",
            " [199.1]\n",
            " [193.2]\n",
            " [280.7]\n",
            " [ 57.5]\n",
            " [175.7]\n",
            " [230.1]\n",
            " [  4.1]\n",
            " [120.5]\n",
            " [ 69. ]\n",
            " [198.9]\n",
            " [206.8]\n",
            " [ 88.3]\n",
            " [  0.7]\n",
            " [ 89.7]\n",
            " [239.3]\n",
            " [213.4]\n",
            " [217.7]\n",
            " [243.2]\n",
            " [172.5]\n",
            " [104.6]\n",
            " [110.7]\n",
            " [156.6]\n",
            " [140.3]\n",
            " [117.2]\n",
            " [ 66.1]\n",
            " [ 97.2]\n",
            " [ 68.4]\n",
            " [ 56.2]\n",
            " [222.4]\n",
            " [ 87.2]\n",
            " [228.3]\n",
            " [  7.8]\n",
            " [199.8]\n",
            " [ 50. ]\n",
            " [238.2]\n",
            " [121. ]\n",
            " [ 48.3]\n",
            " [241.7]\n",
            " [286. ]\n",
            " [131.1]\n",
            " [195.4]\n",
            " [177. ]\n",
            " [163.5]\n",
            " [255.4]\n",
            " [ 76.4]\n",
            " [216.4]\n",
            " [142.9]\n",
            " [ 27.5]\n",
            " [206.9]\n",
            " [ 62.3]\n",
            " [151.5]\n",
            " [284.3]\n",
            " [ 66.9]\n",
            " [ 44.7]\n",
            " [265.2]\n",
            " [ 39.5]\n",
            " [292.9]\n",
            " [ 18.8]\n",
            " [ 75.1]\n",
            " [276.9]\n",
            " [  8.6]\n",
            " [ 53.5]\n",
            " [220.3]\n",
            " [ 44.5]\n",
            " [136.2]\n",
            " [ 13.2]\n",
            " [261.3]\n",
            " [102.7]\n",
            " [120.2]\n",
            " [ 94.2]\n",
            " [193.7]\n",
            " [ 76.3]\n",
            " [197.6]\n",
            " [237.4]\n",
            " [199.8]\n",
            " [220.5]\n",
            " [149.8]\n",
            " [ 93.9]\n",
            " [184.9]\n",
            " [240.1]\n",
            " [296.4]\n",
            " [218.4]\n",
            " [276.7]\n",
            " [262.9]\n",
            " [ 36.9]\n",
            " [109.8]\n",
            " [ 59.6]\n",
            " [ 96.2]\n",
            " [ 17.2]\n",
            " [116. ]\n",
            " [219.8]\n",
            " [273.7]\n",
            " [ 26.8]\n",
            " [ 73.4]\n",
            " [ 74.7]]\n"
          ]
        }
      ]
    },
    {
      "cell_type": "code",
      "source": [
        "print(X_test)"
      ],
      "metadata": {
        "colab": {
          "base_uri": "https://localhost:8080/"
        },
        "id": "v8op9P1X7GeO",
        "outputId": "545616f6-c61c-4b55-da78-a23b4ba646fb"
      },
      "execution_count": 6,
      "outputs": [
        {
          "output_type": "stream",
          "name": "stdout",
          "text": [
            "[[210.8]\n",
            " [202.5]\n",
            " [ 95.7]\n",
            " [280.2]\n",
            " [253.8]\n",
            " [283.6]\n",
            " [163.3]\n",
            " [180.8]\n",
            " [ 70.6]\n",
            " [215.4]\n",
            " [164.5]\n",
            " [ 69.2]\n",
            " [214.7]\n",
            " [109.8]\n",
            " [225.8]\n",
            " [125.7]\n",
            " [131.7]\n",
            " [290.7]\n",
            " [ 25.6]\n",
            " [210.7]\n",
            " [100.4]\n",
            " [ 67.8]\n",
            " [ 25.1]\n",
            " [107.4]\n",
            " [112.9]\n",
            " [188.4]\n",
            " [ 43.1]\n",
            " [248.8]\n",
            " [166.8]\n",
            " [240.1]\n",
            " [239.9]\n",
            " [234.5]\n",
            " [149.7]\n",
            " [170.2]\n",
            " [248.4]\n",
            " [184.9]\n",
            " [222.4]\n",
            " [129.4]\n",
            " [216.8]\n",
            " [ 19.6]]\n"
          ]
        }
      ]
    },
    {
      "cell_type": "code",
      "source": [
        "print(y_train)"
      ],
      "metadata": {
        "colab": {
          "base_uri": "https://localhost:8080/"
        },
        "id": "TcFJ27wV7Iok",
        "outputId": "6ac0c8dc-65e7-4008-e0a1-cfc007c311b0"
      },
      "execution_count": 7,
      "outputs": [
        {
          "output_type": "stream",
          "name": "stdout",
          "text": [
            "[ 5.3  8.7  6.7 19.   5.5 14.6 14.6 21.5 22.6 19.7 25.4 15.2  6.6 21.2\n",
            " 17.4 12.6 12.2  7.2 13.4  9.6 12.2 13.4  5.3 20.7 24.4  7.2  8.8 19.2\n",
            " 14.8  9.5 20.2 21.7 26.2  7.3  8.  15.9  9.2  9.4 22.2 15.5 15.6 11.2\n",
            " 12.3 11.6  9.9  9.7 11.3  5.7 17.3 14.9 17.2 25.4 13.3 10.3 19.  14.7\n",
            "  7.6 12.8 10.9 11.7  8.7 12.5  7.3 16.6  9.3 18.3 15.2 16.1 11.8 14.1\n",
            " 22.1  3.2 14.2  9.3 23.7 12.2 12.9  1.6 10.6 15.7 17.  19.4 25.4 14.4\n",
            " 10.4 16.  10.5 10.3 11.9  8.6  9.6 13.6  8.7 11.7 10.6 15.5  6.6 10.6\n",
            "  8.4 20.7 11.6 11.6 21.8 15.9 18.  22.4 17.1 18.  19.8 11.8 22.6 15.\n",
            "  6.9 12.9  9.7 18.5 15.   9.7 10.1 12.7 10.8 21.4  7.  12.6 27.   4.8\n",
            "  8.1 24.7 10.4 13.2  5.6 24.2 14.  13.2  9.7 19.2 12.  11.7 18.9 11.4\n",
            " 20.1 10.1 15.3 20.7 13.2 23.8 18.  11.8 12.  10.8 12.4  9.7 11.4  5.9\n",
            " 11.  19.6 20.8  8.8 10.9 14.7]\n"
          ]
        }
      ]
    },
    {
      "cell_type": "code",
      "source": [
        "print(y_test)"
      ],
      "metadata": {
        "colab": {
          "base_uri": "https://localhost:8080/"
        },
        "id": "tQZY7Wyl7Kri",
        "outputId": "67fea890-d8cb-4cc9-ae27-445bc241a735"
      },
      "execution_count": 8,
      "outputs": [
        {
          "output_type": "stream",
          "name": "stdout",
          "text": [
            "[23.8 16.6  9.5 14.8 17.6 25.5 16.9 12.9 10.5 17.1 14.5 11.3 17.4 16.7\n",
            " 13.4 15.9 12.9 12.8  9.5 18.4 10.7 12.5  8.5 11.5 11.9 14.9 10.1 18.9\n",
            " 19.6 15.9 23.2 11.9 17.3 11.7 20.2 15.5 11.5 11.  22.3  7.6]\n"
          ]
        }
      ]
    },
    {
      "cell_type": "markdown",
      "source": [
        "Importing the Linear Regression Model and training our model on the training dataset"
      ],
      "metadata": {
        "id": "k4gOmH-K7Ng7"
      }
    },
    {
      "cell_type": "code",
      "source": [
        "from sklearn.linear_model import LinearRegression\n",
        "regressor = LinearRegression()\n",
        "regressor.fit(X_train,y_train)"
      ],
      "metadata": {
        "colab": {
          "base_uri": "https://localhost:8080/",
          "height": 74
        },
        "id": "8sR5JM0O7Uy7",
        "outputId": "d6993de4-876a-4a57-80ab-8837997df51a"
      },
      "execution_count": 9,
      "outputs": [
        {
          "output_type": "execute_result",
          "data": {
            "text/plain": [
              "LinearRegression()"
            ],
            "text/html": [
              "<style>#sk-container-id-1 {color: black;background-color: white;}#sk-container-id-1 pre{padding: 0;}#sk-container-id-1 div.sk-toggleable {background-color: white;}#sk-container-id-1 label.sk-toggleable__label {cursor: pointer;display: block;width: 100%;margin-bottom: 0;padding: 0.3em;box-sizing: border-box;text-align: center;}#sk-container-id-1 label.sk-toggleable__label-arrow:before {content: \"▸\";float: left;margin-right: 0.25em;color: #696969;}#sk-container-id-1 label.sk-toggleable__label-arrow:hover:before {color: black;}#sk-container-id-1 div.sk-estimator:hover label.sk-toggleable__label-arrow:before {color: black;}#sk-container-id-1 div.sk-toggleable__content {max-height: 0;max-width: 0;overflow: hidden;text-align: left;background-color: #f0f8ff;}#sk-container-id-1 div.sk-toggleable__content pre {margin: 0.2em;color: black;border-radius: 0.25em;background-color: #f0f8ff;}#sk-container-id-1 input.sk-toggleable__control:checked~div.sk-toggleable__content {max-height: 200px;max-width: 100%;overflow: auto;}#sk-container-id-1 input.sk-toggleable__control:checked~label.sk-toggleable__label-arrow:before {content: \"▾\";}#sk-container-id-1 div.sk-estimator input.sk-toggleable__control:checked~label.sk-toggleable__label {background-color: #d4ebff;}#sk-container-id-1 div.sk-label input.sk-toggleable__control:checked~label.sk-toggleable__label {background-color: #d4ebff;}#sk-container-id-1 input.sk-hidden--visually {border: 0;clip: rect(1px 1px 1px 1px);clip: rect(1px, 1px, 1px, 1px);height: 1px;margin: -1px;overflow: hidden;padding: 0;position: absolute;width: 1px;}#sk-container-id-1 div.sk-estimator {font-family: monospace;background-color: #f0f8ff;border: 1px dotted black;border-radius: 0.25em;box-sizing: border-box;margin-bottom: 0.5em;}#sk-container-id-1 div.sk-estimator:hover {background-color: #d4ebff;}#sk-container-id-1 div.sk-parallel-item::after {content: \"\";width: 100%;border-bottom: 1px solid gray;flex-grow: 1;}#sk-container-id-1 div.sk-label:hover label.sk-toggleable__label {background-color: #d4ebff;}#sk-container-id-1 div.sk-serial::before {content: \"\";position: absolute;border-left: 1px solid gray;box-sizing: border-box;top: 0;bottom: 0;left: 50%;z-index: 0;}#sk-container-id-1 div.sk-serial {display: flex;flex-direction: column;align-items: center;background-color: white;padding-right: 0.2em;padding-left: 0.2em;position: relative;}#sk-container-id-1 div.sk-item {position: relative;z-index: 1;}#sk-container-id-1 div.sk-parallel {display: flex;align-items: stretch;justify-content: center;background-color: white;position: relative;}#sk-container-id-1 div.sk-item::before, #sk-container-id-1 div.sk-parallel-item::before {content: \"\";position: absolute;border-left: 1px solid gray;box-sizing: border-box;top: 0;bottom: 0;left: 50%;z-index: -1;}#sk-container-id-1 div.sk-parallel-item {display: flex;flex-direction: column;z-index: 1;position: relative;background-color: white;}#sk-container-id-1 div.sk-parallel-item:first-child::after {align-self: flex-end;width: 50%;}#sk-container-id-1 div.sk-parallel-item:last-child::after {align-self: flex-start;width: 50%;}#sk-container-id-1 div.sk-parallel-item:only-child::after {width: 0;}#sk-container-id-1 div.sk-dashed-wrapped {border: 1px dashed gray;margin: 0 0.4em 0.5em 0.4em;box-sizing: border-box;padding-bottom: 0.4em;background-color: white;}#sk-container-id-1 div.sk-label label {font-family: monospace;font-weight: bold;display: inline-block;line-height: 1.2em;}#sk-container-id-1 div.sk-label-container {text-align: center;}#sk-container-id-1 div.sk-container {/* jupyter's `normalize.less` sets `[hidden] { display: none; }` but bootstrap.min.css set `[hidden] { display: none !important; }` so we also need the `!important` here to be able to override the default hidden behavior on the sphinx rendered scikit-learn.org. See: https://github.com/scikit-learn/scikit-learn/issues/21755 */display: inline-block !important;position: relative;}#sk-container-id-1 div.sk-text-repr-fallback {display: none;}</style><div id=\"sk-container-id-1\" class=\"sk-top-container\"><div class=\"sk-text-repr-fallback\"><pre>LinearRegression()</pre><b>In a Jupyter environment, please rerun this cell to show the HTML representation or trust the notebook. <br />On GitHub, the HTML representation is unable to render, please try loading this page with nbviewer.org.</b></div><div class=\"sk-container\" hidden><div class=\"sk-item\"><div class=\"sk-estimator sk-toggleable\"><input class=\"sk-toggleable__control sk-hidden--visually\" id=\"sk-estimator-id-1\" type=\"checkbox\" checked><label for=\"sk-estimator-id-1\" class=\"sk-toggleable__label sk-toggleable__label-arrow\">LinearRegression</label><div class=\"sk-toggleable__content\"><pre>LinearRegression()</pre></div></div></div></div></div>"
            ]
          },
          "metadata": {},
          "execution_count": 9
        }
      ]
    },
    {
      "cell_type": "markdown",
      "source": [
        "Predicting Test Results"
      ],
      "metadata": {
        "id": "Zr3i5qZi7key"
      }
    },
    {
      "cell_type": "code",
      "source": [
        "y_pred = regressor.predict(X_test)\n",
        "print(y_pred)"
      ],
      "metadata": {
        "colab": {
          "base_uri": "https://localhost:8080/"
        },
        "id": "M8DD9dV07mU_",
        "outputId": "a9e53c80-1c18-407a-eef1-e9b74220b54a"
      },
      "execution_count": 10,
      "outputs": [
        {
          "output_type": "stream",
          "name": "stdout",
          "text": [
            "[17.18696362 16.77798032 11.51540011 20.60665526 19.30579273 20.77419058\n",
            " 14.84639657 15.70871075 10.2785952  17.41362906 14.90552669 10.20961007\n",
            " 17.37913649 12.21017895 17.92609005 12.99365298 13.28930355 21.12404376\n",
            "  8.0612159  17.18203611 11.74699305 10.14062494  8.03657835 12.09191872\n",
            " 12.36293175 16.08320147  8.92353007 19.05941725 15.01885941 18.63072392\n",
            " 18.6208689  18.35478338 14.17625527 15.18639473 19.03970721 15.91073864\n",
            " 17.75855473 13.17597083 17.48261419  7.76556532]\n"
          ]
        }
      ]
    },
    {
      "cell_type": "markdown",
      "source": [
        "Visualise test results"
      ],
      "metadata": {
        "id": "qUKmVIT27v33"
      }
    },
    {
      "cell_type": "code",
      "source": [
        "plt.scatter(X_train,y_train,color='red')\n",
        "plt.plot(X_train,regressor.predict(X_train),color='blue')\n",
        "plt.title('Sales vs Advertising Budget(Training Set)')\n",
        "plt.xlabel('Advertising Budget')\n",
        "plt.ylabel('Sales')\n",
        "plt.show()"
      ],
      "metadata": {
        "colab": {
          "base_uri": "https://localhost:8080/",
          "height": 472
        },
        "id": "KmEQqe-q7yND",
        "outputId": "6f5f935f-c250-465c-d59a-f53b38e30899"
      },
      "execution_count": 12,
      "outputs": [
        {
          "output_type": "display_data",
          "data": {
            "text/plain": [
              "<Figure size 640x480 with 1 Axes>"
            ],
            "image/png": "[encoded data removed]"
          },
          "metadata": {}
        }
      ]
    },
    {
      "cell_type": "code",
      "source": [
        "plt.scatter(X_test,y_test,color='red')\n",
        "plt.plot(X_test,y_pred,color='blue')\n",
        "plt.title('Salary vs Advertising Budget(Testing Set)')\n",
        "plt.xlabel('Advertising Budget')\n",
        "plt.ylabel('Sales')"
      ],
      "metadata": {
        "colab": {
          "base_uri": "https://localhost:8080/",
          "height": 489
        },
        "id": "2OAyltpJ8y4s",
        "outputId": "9eddcd47-4c23-4bd1-9eea-e390750fc8dc"
      },
      "execution_count": 13,
      "outputs": [
        {
          "output_type": "execute_result",
          "data": {
            "text/plain": [
              "Text(0, 0.5, 'Sales')"
            ]
          },
          "metadata": {},
          "execution_count": 13
        },
        {
          "output_type": "display_data",
          "data": {
            "text/plain": [
              "<Figure size 640x480 with 1 Axes>"
            ],
            "image/png": "[encoded data removed]"
          },
          "metadata": {}
        }
      ]
    }
  ]
}