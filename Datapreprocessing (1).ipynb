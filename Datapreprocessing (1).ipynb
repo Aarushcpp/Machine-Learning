{
  "metadata": {
    "kernelspec": {
      "name": "python",
      "display_name": "Python (Pyodide)",
      "language": "python"
    },
    "language_info": {
      "codemirror_mode": {
        "name": "python",
        "version": 3
      },
      "file_extension": ".py",
      "mimetype": "text/x-python",
      "name": "python",
      "nbconvert_exporter": "python",
      "pygments_lexer": "ipython3",
      "version": "3.8"
    }
  },
  "nbformat_minor": 4,
  "nbformat": 4,
  "cells": [
    {
      "cell_type": "markdown",
      "source": "# Data Preprocessing Tools",
      "metadata": {}
    },
    {
      "cell_type": "markdown",
      "source": "## Importing Libraries",
      "metadata": {}
    },
    {
      "cell_type": "code",
      "source": "import numpy as np\nimport matplotlib.pyplot as plt\nimport pandas as pd",
      "metadata": {
        "trusted": true
      },
      "outputs": [],
      "execution_count": 3
    },
    {
      "cell_type": "markdown",
      "source": "## Importing the dataset",
      "metadata": {}
    },
    {
      "cell_type": "code",
      "source": "dataset = pd.read_csv('Data.csv')\nX = dataset.iloc[:,:-1].values\ny = dataset.iloc[:,-1].values\nprint(X)",
      "metadata": {
        "trusted": true
      },
      "outputs": [
        {
          "name": "stdout",
          "text": "[['France' 44.0 72000.0]\n ['Spain' 27.0 48000.0]\n ['Germany' 30.0 54000.0]\n ['Spain' 38.0 61000.0]\n ['Germany' 40.0 nan]\n ['France' 35.0 58000.0]\n ['Spain' nan 52000.0]\n ['France' 48.0 79000.0]\n ['Germany' 50.0 83000.0]\n ['France' 37.0 67000.0]]\n",
          "output_type": "stream"
        }
      ],
      "execution_count": 6
    },
    {
      "cell_type": "code",
      "source": "print(y)",
      "metadata": {
        "trusted": true
      },
      "outputs": [
        {
          "name": "stdout",
          "text": "['No' 'Yes' 'No' 'No' 'Yes' 'Yes' 'No' 'Yes' 'No' 'Yes']\n",
          "output_type": "stream"
        }
      ],
      "execution_count": 7
    },
    {
      "cell_type": "markdown",
      "source": "## Taking care of Missing data",
      "metadata": {}
    },
    {
      "cell_type": "code",
      "source": "from sklearn.impute import SimpleImputer\nimputer = SimpleImputer(missing_values=np.nan,strategy='mean')\nimputer.fit(X[:,1:3])\nX[:,1:3]=imputer.transform(X[:,1:3])\nprint(X)",
      "metadata": {
        "trusted": true
      },
      "outputs": [
        {
          "name": "stdout",
          "text": "[['France' 44.0 72000.0]\n ['Spain' 27.0 48000.0]\n ['Germany' 30.0 54000.0]\n ['Spain' 38.0 61000.0]\n ['Germany' 40.0 63777.77777777778]\n ['France' 35.0 58000.0]\n ['Spain' 38.77777777777778 52000.0]\n ['France' 48.0 79000.0]\n ['Germany' 50.0 83000.0]\n ['France' 37.0 67000.0]]\n",
          "output_type": "stream"
        }
      ],
      "execution_count": 8
    },
    {
      "cell_type": "markdown",
      "source": "## Encoding Categorical data",
      "metadata": {}
    },
    {
      "cell_type": "markdown",
      "source": "#### Encoding the independent variable",
      "metadata": {}
    },
    {
      "cell_type": "code",
      "source": "from sklearn.compose import ColumnTransformer\nfrom sklearn.preprocessing import OneHotEncoder\nct = ColumnTransformer(transformers=[('encoder',OneHotEncoder(),[0])],remainder='passthrough')\nX=np.array(ct.fit_transform(X))\nprint(X)",
      "metadata": {
        "trusted": true
      },
      "outputs": [
        {
          "name": "stdout",
          "text": "[[0.0 1.0 0.0 0.0 44.0 72000.0]\n [1.0 0.0 0.0 1.0 27.0 48000.0]\n [1.0 0.0 1.0 0.0 30.0 54000.0]\n [1.0 0.0 0.0 1.0 38.0 61000.0]\n [1.0 0.0 1.0 0.0 40.0 63777.77777777778]\n [0.0 1.0 0.0 0.0 35.0 58000.0]\n [1.0 0.0 0.0 1.0 38.77777777777778 52000.0]\n [0.0 1.0 0.0 0.0 48.0 79000.0]\n [1.0 0.0 1.0 0.0 50.0 83000.0]\n [0.0 1.0 0.0 0.0 37.0 67000.0]]\n",
          "output_type": "stream"
        }
      ],
      "execution_count": 10
    },
    {
      "cell_type": "markdown",
      "source": "#### Encoding the dependent variable",
      "metadata": {}
    },
    {
      "cell_type": "code",
      "source": "from sklearn.preprocessing import LabelEncoder\nle = LabelEncoder()\ny = le.fit_transform(y)\nprint(y)",
      "metadata": {
        "trusted": true
      },
      "outputs": [
        {
          "name": "stdout",
          "text": "[0 1 0 0 1 1 0 1 0 1]\n",
          "output_type": "stream"
        }
      ],
      "execution_count": 11
    },
    {
      "cell_type": "markdown",
      "source": "### IMPORTANT QUESTION",
      "metadata": {}
    },
    {
      "cell_type": "markdown",
      "source": "Q.Feature Scaling is done before or after splitting the dataset into training set and testing set?",
      "metadata": {}
    },
    {
      "cell_type": "markdown",
      "source": "It is done after the splitting the dataset because we dont want any information leakage of our testing set already known to our machine we want to test it otherwise it will get to know about our testing set.(Hint:Average used in standardization will contain average of both testing and training if feature scaling done before)",
      "metadata": {}
    },
    {
      "cell_type": "markdown",
      "source": "## Splitting the dataset into training set and testing set",
      "metadata": {}
    },
    {
      "cell_type": "code",
      "source": "from sklearn.model_selection import train_test_split\nX_train, X_test, y_train, y_test = train_test_split(X, y, test_size = 0.2, random_state = 2)",
      "metadata": {
        "trusted": true
      },
      "outputs": [],
      "execution_count": 17
    },
    {
      "cell_type": "code",
      "source": "print(X_train)",
      "metadata": {
        "trusted": true
      },
      "outputs": [
        {
          "name": "stdout",
          "text": "[[0.0 1.0 0.0 0.0 35.0 58000.0]\n [0.0 1.0 0.0 0.0 44.0 72000.0]\n [0.0 1.0 0.0 0.0 48.0 79000.0]\n [1.0 0.0 1.0 0.0 30.0 54000.0]\n [1.0 0.0 0.0 1.0 38.0 61000.0]\n [1.0 0.0 0.0 1.0 38.77777777777778 52000.0]\n [0.0 1.0 0.0 0.0 37.0 67000.0]\n [1.0 0.0 1.0 0.0 50.0 83000.0]]\n",
          "output_type": "stream"
        }
      ],
      "execution_count": 18
    },
    {
      "cell_type": "code",
      "source": "print(y_train)",
      "metadata": {
        "trusted": true
      },
      "outputs": [
        {
          "name": "stdout",
          "text": "[1 0 1 0 0 0 1 0]\n",
          "output_type": "stream"
        }
      ],
      "execution_count": 19
    },
    {
      "cell_type": "code",
      "source": "print(X_test)",
      "metadata": {
        "trusted": true
      },
      "outputs": [
        {
          "name": "stdout",
          "text": "[[1.0 0.0 1.0 0.0 40.0 63777.77777777778]\n [1.0 0.0 0.0 1.0 27.0 48000.0]]\n",
          "output_type": "stream"
        }
      ],
      "execution_count": 20
    },
    {
      "cell_type": "code",
      "source": "print(y_test)",
      "metadata": {
        "trusted": true
      },
      "outputs": [
        {
          "name": "stdout",
          "text": "[1 1]\n",
          "output_type": "stream"
        }
      ],
      "execution_count": 21
    }
  ]
}